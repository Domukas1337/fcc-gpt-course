{
 "cells": [
  {
   "cell_type": "code",
   "execution_count": 2,
   "metadata": {},
   "outputs": [
    {
     "name": "stdout",
     "output_type": "stream",
     "text": [
      "cuda\n"
     ]
    }
   ],
   "source": [
    "import torch\n",
    "import torch.nn as nn\n",
    "from torch.nn import functional as F\n",
    "device = 'cuda' if torch.cuda.is_available() else 'cpu'\n",
    "print(device)\n",
    "block_size = 8\n",
    "batch_size = 4\n",
    "max_iters = 10000\n",
    "eval_iters= 200\n",
    "learning_rate = 3e-4"
   ]
  },
  {
   "cell_type": "code",
   "execution_count": 4,
   "metadata": {},
   "outputs": [
    {
     "name": "stdout",
     "output_type": "stream",
     "text": [
      "['\\n', ' ', '!', '\"', '&', \"'\", '(', ')', '*', ',', '-', '.', '0', '1', '2', '3', '4', '5', '6', '7', '8', '9', ':', ';', '?', 'A', 'B', 'C', 'D', 'E', 'F', 'G', 'H', 'I', 'J', 'K', 'L', 'M', 'N', 'O', 'P', 'Q', 'R', 'S', 'T', 'U', 'V', 'W', 'X', 'Y', 'Z', '[', ']', '_', 'a', 'b', 'c', 'd', 'e', 'f', 'g', 'h', 'i', 'j', 'k', 'l', 'm', 'n', 'o', 'p', 'q', 'r', 's', 't', 'u', 'v', 'w', 'x', 'y', 'z', '\\ufeff']\n"
     ]
    }
   ],
   "source": [
    "with open('wizard_of_oz.txt', 'r', encoding='utf-8') as f:\n",
    "    text = f.read()\n",
    "chars = sorted(set(text))\n",
    "print(chars)\n",
    "vocab_size = len(chars)"
   ]
  },
  {
   "cell_type": "code",
   "execution_count": 5,
   "metadata": {},
   "outputs": [
    {
     "name": "stdout",
     "output_type": "stream",
     "text": [
      "tensor([80,  1,  1, 28, 39, 42, 39, 44, 32, 49,  1, 25, 38, 28,  1, 44, 32, 29,\n",
      "         1, 47, 33, 50, 25, 42, 28,  1, 33, 38,  1, 39, 50,  0,  0,  1,  1, 26,\n",
      "        49,  0,  0,  1,  1, 36, 11,  1, 30, 42, 25, 38, 35,  1, 26, 25, 45, 37,\n",
      "         0,  0,  1,  1, 25, 45, 44, 32, 39, 42,  1, 39, 30,  1, 44, 32, 29,  1,\n",
      "        47, 33, 50, 25, 42, 28,  1, 39, 30,  1, 39, 50,  9,  1, 44, 32, 29,  1,\n",
      "        36, 25, 38, 28,  1, 39, 30,  1, 39, 50])\n"
     ]
    }
   ],
   "source": [
    "string_to_int = { ch:i for i, ch in enumerate(chars) }\n",
    "int_to_string = { i:ch for i, ch in enumerate(chars) }\n",
    "encode = lambda s: [string_to_int[c] for c in s]\n",
    "decode = lambda l: ''.join([int_to_string[i] for i in l])\n",
    "\n",
    "data = torch.tensor(encode(text), dtype=torch.long)\n",
    "print(data[:100])"
   ]
  },
  {
   "cell_type": "code",
   "execution_count": 6,
   "metadata": {},
   "outputs": [
    {
     "name": "stdout",
     "output_type": "stream",
     "text": [
      "inputs:\n",
      "tensor([[73, 68,  0, 73, 61, 58,  1, 59],\n",
      "        [74, 71, 59, 54, 56, 58,  1, 68],\n",
      "        [58,  1, 72, 61, 54, 71, 69,  1],\n",
      "        [78, 65, 54, 67, 57,  0, 73, 61]], device='cuda:0')\n",
      "targets:\n",
      "tensor([[68,  0, 73, 61, 58,  1, 59, 74],\n",
      "        [71, 59, 54, 56, 58,  1, 68, 59],\n",
      "        [ 1, 72, 61, 54, 71, 69,  1, 58],\n",
      "        [65, 54, 67, 57,  0, 73, 61, 54]], device='cuda:0')\n"
     ]
    }
   ],
   "source": [
    "n = int(0.8*len(data))\n",
    "train_data = data[:n]\n",
    "val_data = data[n:]\n",
    "\n",
    "def get_batch(split):\n",
    "    data = train_data if split == 'train' else val_data\n",
    "    ix = torch.randint(len(data) - block_size, (batch_size,))\n",
    "    x = torch.stack([data[i:i+block_size] for i in ix])\n",
    "    y = torch.stack([data[i+1:i+block_size+1] for i in ix])\n",
    "    x, y = x.to(device), y.to(device)\n",
    "    return x,y\n",
    "\n",
    "x,y = get_batch('train')\n",
    "print('inputs:')\n",
    "print(x)\n",
    "print('targets:')\n",
    "print(y)"
   ]
  },
  {
   "cell_type": "code",
   "execution_count": 7,
   "metadata": {},
   "outputs": [
    {
     "name": "stdout",
     "output_type": "stream",
     "text": [
      "When input is tensor([80]) target is tensor(1)\n",
      "When input is tensor([80,  1]) target is tensor(1)\n",
      "When input is tensor([80,  1,  1]) target is tensor(28)\n",
      "When input is tensor([80,  1,  1, 28]) target is tensor(39)\n",
      "When input is tensor([80,  1,  1, 28, 39]) target is tensor(42)\n",
      "When input is tensor([80,  1,  1, 28, 39, 42]) target is tensor(39)\n",
      "When input is tensor([80,  1,  1, 28, 39, 42, 39]) target is tensor(44)\n",
      "When input is tensor([80,  1,  1, 28, 39, 42, 39, 44]) target is tensor(32)\n"
     ]
    }
   ],
   "source": [
    "x = train_data[:block_size]\n",
    "y = train_data[1:block_size+1]\n",
    "\n",
    "for t in range(block_size):\n",
    "    context = x[:t+1]\n",
    "    target = y[t]\n",
    "    print(\"When input is\", context, \"target is\", target)"
   ]
  },
  {
   "cell_type": "code",
   "execution_count": 8,
   "metadata": {},
   "outputs": [],
   "source": [
    "@torch.no_grad()\n",
    "def estimate_loss():\n",
    "    out= {}\n",
    "    model.eval()\n",
    "    for split in ['train', 'val']:\n",
    "        losses = torch.zeros(eval_iters)\n",
    "        for k in range(eval_iters):\n",
    "            X,Y = get_batch(split)\n",
    "            logits, loss = model(X,Y)\n",
    "            losses[k] = loss.item()\n",
    "        out[split] = losses.mean()\n",
    "    model.train()\n",
    "    return out"
   ]
  },
  {
   "cell_type": "code",
   "execution_count": 9,
   "metadata": {},
   "outputs": [],
   "source": [
    "class BigramLanguageModel(nn.Module):\n",
    "    def __init__(self, vocab_size):\n",
    "        super().__init__()\n",
    "        self.token_embedding_table = nn.Embedding(vocab_size, vocab_size)\n",
    "\n",
    "    def forward(self, index, targets=None):\n",
    "        logits = self.token_embedding_table(index)\n",
    "        if targets is None:\n",
    "            loss = None\n",
    "        else:\n",
    "            B, T, C = logits.shape\n",
    "            logits = logits.view(B*T, C)\n",
    "            targets = targets.view(B*T)\n",
    "            loss = F.cross_entropy(logits, targets)\n",
    "        return logits, loss\n",
    "        \n",
    "    def generate(self, index, max_new_tokens):\n",
    "        for _ in range(max_new_tokens):\n",
    "            #get the predictions\n",
    "            logits, loss = self.forward(index)\n",
    "            #focus only on the last time step\n",
    "            logits = logits[:, -1, :]\n",
    "            #apply softmax function to get probabilities\n",
    "            probs = F.softmax(logits, dim=-1)\n",
    "            #sample from the dristribution\n",
    "            index_next = torch.multinomial(probs, num_samples=1)\n",
    "            #append sampled index to the runing sequence\n",
    "            index = torch.cat((index, index_next), dim=1)\n",
    "        return index\n",
    "\n",
    "model = BigramLanguageModel(vocab_size)\n",
    "m = model.to(device)"
   ]
  },
  {
   "cell_type": "code",
   "execution_count": 10,
   "metadata": {},
   "outputs": [
    {
     "name": "stdout",
     "output_type": "stream",
     "text": [
      "step: 0, train loss: 4.9575, val loss: 4.9755\n",
      "step: 200, train loss: 4.9276, val loss: 4.9246\n",
      "step: 400, train loss: 4.8513, val loss: 4.8521\n",
      "step: 600, train loss: 4.8223, val loss: 4.8145\n",
      "step: 800, train loss: 4.7618, val loss: 4.7679\n",
      "step: 1000, train loss: 4.7032, val loss: 4.7191\n",
      "step: 1200, train loss: 4.6669, val loss: 4.6725\n",
      "step: 1400, train loss: 4.6235, val loss: 4.6372\n",
      "step: 1600, train loss: 4.5560, val loss: 4.5768\n",
      "step: 1800, train loss: 4.5342, val loss: 4.5285\n",
      "step: 2000, train loss: 4.4631, val loss: 4.4821\n",
      "step: 2200, train loss: 4.4309, val loss: 4.4388\n",
      "step: 2400, train loss: 4.3894, val loss: 4.3939\n",
      "step: 2600, train loss: 4.3392, val loss: 4.3425\n",
      "step: 2800, train loss: 4.2917, val loss: 4.2847\n",
      "step: 3000, train loss: 4.2606, val loss: 4.2518\n",
      "step: 3200, train loss: 4.2184, val loss: 4.2259\n",
      "step: 3400, train loss: 4.1722, val loss: 4.1733\n",
      "step: 3600, train loss: 4.1454, val loss: 4.1321\n",
      "step: 3800, train loss: 4.1157, val loss: 4.0921\n",
      "step: 4000, train loss: 4.0536, val loss: 4.0666\n",
      "step: 4200, train loss: 4.0097, val loss: 4.0289\n",
      "step: 4400, train loss: 3.9877, val loss: 3.9882\n",
      "step: 4600, train loss: 3.9476, val loss: 3.9463\n",
      "step: 4800, train loss: 3.9043, val loss: 3.9076\n",
      "step: 5000, train loss: 3.8819, val loss: 3.8829\n",
      "step: 5200, train loss: 3.8354, val loss: 3.8560\n",
      "step: 5400, train loss: 3.7820, val loss: 3.8291\n",
      "step: 5600, train loss: 3.7750, val loss: 3.7852\n",
      "step: 5800, train loss: 3.7428, val loss: 3.7546\n",
      "step: 6000, train loss: 3.6790, val loss: 3.7061\n",
      "step: 6200, train loss: 3.6838, val loss: 3.6784\n",
      "step: 6400, train loss: 3.6459, val loss: 3.6556\n",
      "step: 6600, train loss: 3.6155, val loss: 3.6346\n",
      "step: 6800, train loss: 3.6087, val loss: 3.5955\n",
      "step: 7000, train loss: 3.5699, val loss: 3.5754\n",
      "step: 7200, train loss: 3.5278, val loss: 3.5374\n",
      "step: 7400, train loss: 3.5296, val loss: 3.5304\n",
      "step: 7600, train loss: 3.4705, val loss: 3.4900\n",
      "step: 7800, train loss: 3.4674, val loss: 3.4656\n",
      "step: 8000, train loss: 3.4242, val loss: 3.4363\n",
      "step: 8200, train loss: 3.4067, val loss: 3.4260\n",
      "step: 8400, train loss: 3.3937, val loss: 3.3959\n",
      "step: 8600, train loss: 3.3493, val loss: 3.3554\n",
      "step: 8800, train loss: 3.3371, val loss: 3.3403\n",
      "step: 9000, train loss: 3.3144, val loss: 3.3398\n",
      "step: 9200, train loss: 3.3143, val loss: 3.2895\n",
      "step: 9400, train loss: 3.2513, val loss: 3.2746\n",
      "step: 9600, train loss: 3.2475, val loss: 3.2768\n",
      "step: 9800, train loss: 3.2081, val loss: 3.2300\n",
      "2.679023504257202\n"
     ]
    }
   ],
   "source": [
    "#create a PyTorch optimizer\n",
    "optimizer = torch.optim.AdamW(model.parameters(), lr=learning_rate)\n",
    "\n",
    "for iter in range(max_iters):\n",
    "    if iter % eval_iters == 0:\n",
    "        losses= estimate_loss()\n",
    "        print(f\"step: {iter}, train loss: {losses['train']:.4f}, val loss: {losses['val']:.4f}\")\n",
    "    \n",
    "    #sample a batch of data\n",
    "    xb, yb = get_batch('train')\n",
    "    \n",
    "    #evaluate the loss\n",
    "    logits, loss= model.forward(xb,yb)\n",
    "    optimizer.zero_grad(set_to_none=True)\n",
    "    loss.backward()\n",
    "    optimizer.step()\n",
    "print(loss.item())"
   ]
  },
  {
   "cell_type": "code",
   "execution_count": 11,
   "metadata": {},
   "outputs": [
    {
     "name": "stdout",
     "output_type": "stream",
     "text": [
      "\n",
      "c5[?JU&\" Kwa-wVl:kDim bRu ceg[B&\"F&\n",
      " ezanH8ed?]&YD2a0ofN]S(JA_.8Yqb san,j7&M9nd cWtlTHZ8kort7 GGd,EOmmar-?Q1nytiDdv﻿[RirIl. CCoomart3rlATMRp!zW(0kWD?, KRBsTCTH365V vZy9[4r.]foyUhyHOc2M4([I wyO30fr\n",
      "wiJNedC,Pg\"RN5s(&2[xUQad,jZ]ch f. oths?eVdre RbDyXd7P7;Fof DAvN*Fu(-p)Wg-I BNUldG0.Bqlloma1fSiJwj&sp. Uh hu,\"1\n",
      "CM[Z87\"a r-6(:kj\n",
      "o BUhergRtelSacyl)_[\n",
      "aD0vanldrspleg J6R'6.VthJ﻿;0X*MZ8jM); umy an, texlassiL\n",
      "S, 5v69HerPg1A8BqBOBqoVZyC_jciiftc\"Dv﻿uZIm*5TT?YU&&b23\"BqloyfP,\n",
      "I!V9,6ewj;::8Pr]OI﻿M!oc72b8.:j?﻿k_\n"
     ]
    }
   ],
   "source": [
    "context = torch.zeros((1,1), dtype=torch.long, device=device)\n",
    "generated_chars = decode(m.generate(context,max_new_tokens=500)[0].tolist())\n",
    "print(generated_chars)"
   ]
  },
  {
   "cell_type": "code",
   "execution_count": null,
   "metadata": {},
   "outputs": [],
   "source": []
  }
 ],
 "metadata": {
  "kernelspec": {
   "display_name": "cuda-gpt",
   "language": "python",
   "name": "cuda"
  },
  "language_info": {
   "codemirror_mode": {
    "name": "ipython",
    "version": 3
   },
   "file_extension": ".py",
   "mimetype": "text/x-python",
   "name": "python",
   "nbconvert_exporter": "python",
   "pygments_lexer": "ipython3",
   "version": "3.11.7"
  }
 },
 "nbformat": 4,
 "nbformat_minor": 4
}
