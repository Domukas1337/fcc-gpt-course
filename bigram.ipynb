{
 "cells": [
  {
   "cell_type": "code",
   "execution_count": 11,
   "metadata": {},
   "outputs": [
    {
     "name": "stdout",
     "output_type": "stream",
     "text": [
      "cuda\n"
     ]
    }
   ],
   "source": [
    "import torch\n",
    "import torch.nn as nn\n",
    "from torch.nn import functional as F\n",
    "device = 'cuda' if torch.cuda.is_available() else 'cpu'\n",
    "print(device)\n",
    "block_size = 8\n",
    "batch_size = 4\n",
    "max_iters = 10000\n",
    "eval_iters= 200\n",
    "learning_rate = 3e-4"
   ]
  },
  {
   "cell_type": "code",
   "execution_count": 12,
   "metadata": {},
   "outputs": [
    {
     "name": "stdout",
     "output_type": "stream",
     "text": [
      "['\\n', ' ', '!', '\"', '&', \"'\", '(', ')', '*', ',', '-', '.', '0', '1', '2', '3', '4', '5', '6', '7', '8', '9', ':', ';', '?', 'A', 'B', 'C', 'D', 'E', 'F', 'G', 'H', 'I', 'J', 'K', 'L', 'M', 'N', 'O', 'P', 'Q', 'R', 'S', 'T', 'U', 'V', 'W', 'X', 'Y', 'Z', '[', ']', '_', 'a', 'b', 'c', 'd', 'e', 'f', 'g', 'h', 'i', 'j', 'k', 'l', 'm', 'n', 'o', 'p', 'q', 'r', 's', 't', 'u', 'v', 'w', 'x', 'y', 'z', '\\ufeff']\n"
     ]
    }
   ],
   "source": [
    "with open('wizard_of_oz.txt', 'r', encoding='utf-8') as f:\n",
    "    text = f.read()\n",
    "chars = sorted(set(text))\n",
    "print(chars)\n",
    "vocab_size = len(chars)"
   ]
  },
  {
   "cell_type": "code",
   "execution_count": 13,
   "metadata": {},
   "outputs": [
    {
     "name": "stdout",
     "output_type": "stream",
     "text": [
      "tensor([80,  1,  1, 28, 39, 42, 39, 44, 32, 49,  1, 25, 38, 28,  1, 44, 32, 29,\n",
      "         1, 47, 33, 50, 25, 42, 28,  1, 33, 38,  1, 39, 50,  0,  0,  1,  1, 26,\n",
      "        49,  0,  0,  1,  1, 36, 11,  1, 30, 42, 25, 38, 35,  1, 26, 25, 45, 37,\n",
      "         0,  0,  1,  1, 25, 45, 44, 32, 39, 42,  1, 39, 30,  1, 44, 32, 29,  1,\n",
      "        47, 33, 50, 25, 42, 28,  1, 39, 30,  1, 39, 50,  9,  1, 44, 32, 29,  1,\n",
      "        36, 25, 38, 28,  1, 39, 30,  1, 39, 50])\n"
     ]
    }
   ],
   "source": [
    "string_to_int = { ch:i for i, ch in enumerate(chars) }\n",
    "int_to_string = { i:ch for i, ch in enumerate(chars) }\n",
    "encode = lambda s: [string_to_int[c] for c in s]\n",
    "decode = lambda l: ''.join([int_to_string[i] for i in l])\n",
    "\n",
    "data = torch.tensor(encode(text), dtype=torch.long)\n",
    "print(data[:100])"
   ]
  },
  {
   "cell_type": "code",
   "execution_count": 14,
   "metadata": {},
   "outputs": [
    {
     "name": "stdout",
     "output_type": "stream",
     "text": [
      "inputs:\n",
      "tensor([[ 0, 44, 61, 58,  1, 47, 62, 79],\n",
      "        [ 0, 74, 72,  1, 73, 68,  1, 73],\n",
      "        [61, 54, 73,  1, 62, 72,  1, 78],\n",
      "        [73, 68,  1, 73, 61, 58,  1, 54]], device='cuda:0')\n",
      "targets:\n",
      "tensor([[44, 61, 58,  1, 47, 62, 79, 54],\n",
      "        [74, 72,  1, 73, 68,  1, 73, 71],\n",
      "        [54, 73,  1, 62, 72,  1, 78, 68],\n",
      "        [68,  1, 73, 61, 58,  1, 54, 62]], device='cuda:0')\n"
     ]
    }
   ],
   "source": [
    "n = int(0.8*len(data))\n",
    "train_data = data[:n]\n",
    "val_data = data[n:]\n",
    "\n",
    "def get_batch(split):\n",
    "    data = train_data if split == 'train' else val_data\n",
    "    ix = torch.randint(len(data) - block_size, (batch_size,))\n",
    "    x = torch.stack([data[i:i+block_size] for i in ix])\n",
    "    y = torch.stack([data[i+1:i+block_size+1] for i in ix])\n",
    "    x, y = x.to(device), y.to(device)\n",
    "    return x,y\n",
    "\n",
    "x,y = get_batch('train')\n",
    "print('inputs:')\n",
    "print(x)\n",
    "print('targets:')\n",
    "print(y)"
   ]
  },
  {
   "cell_type": "code",
   "execution_count": 15,
   "metadata": {},
   "outputs": [
    {
     "name": "stdout",
     "output_type": "stream",
     "text": [
      "When input is tensor([80]) target is tensor(1)\n",
      "When input is tensor([80,  1]) target is tensor(1)\n",
      "When input is tensor([80,  1,  1]) target is tensor(28)\n",
      "When input is tensor([80,  1,  1, 28]) target is tensor(39)\n",
      "When input is tensor([80,  1,  1, 28, 39]) target is tensor(42)\n",
      "When input is tensor([80,  1,  1, 28, 39, 42]) target is tensor(39)\n",
      "When input is tensor([80,  1,  1, 28, 39, 42, 39]) target is tensor(44)\n",
      "When input is tensor([80,  1,  1, 28, 39, 42, 39, 44]) target is tensor(32)\n"
     ]
    }
   ],
   "source": [
    "x = train_data[:block_size]\n",
    "y = train_data[1:block_size+1]\n",
    "\n",
    "for t in range(block_size):\n",
    "    context = x[:t+1]\n",
    "    target = y[t]\n",
    "    print(\"When input is\", context, \"target is\", target)"
   ]
  },
  {
   "cell_type": "code",
   "execution_count": 20,
   "metadata": {},
   "outputs": [],
   "source": [
    "class BigramLanguageModel(nn.Module):\n",
    "    def __init__(self, vocab_size):\n",
    "        super().__init__()\n",
    "        self.token_embedding_table = nn.Embedding(vocab_size, vocab_size)\n",
    "\n",
    "    def forward(self, index, targets=None):\n",
    "        logits = self.token_embedding_table(index)\n",
    "        if targets is None:\n",
    "            loss = None\n",
    "        else:\n",
    "            B, T, C = logits.shape\n",
    "            logits = logits.view(B*T, C)\n",
    "            targets = targets.view(B*T)\n",
    "            loss = F.cross_entropy(logits, targets)\n",
    "        return logits, loss\n",
    "        \n",
    "    def generate(self, index, max_new_tokens):\n",
    "        for _ in range(max_new_tokens):\n",
    "            #get the predictions\n",
    "            logits, loss = self.forward(index)\n",
    "            #focus only on the last time step\n",
    "            logits = logits[:, -1, :]\n",
    "            #apply softmax function to get probabilities\n",
    "            probs = F.softmax(logits, dim=-1)\n",
    "            #sample from the dristribution\n",
    "            index_next = torch.multinomial(probs, num_samples=1)\n",
    "            #append sampled index to the runing sequence\n",
    "            index = torch.cat((index, index_next), dim=1)\n",
    "        return index\n",
    "\n",
    "model = BigramLanguageModel(vocab_size)\n",
    "m = model.to(device)"
   ]
  },
  {
   "cell_type": "code",
   "execution_count": 21,
   "metadata": {},
   "outputs": [],
   "source": [
    "@torch.no_grad()\n",
    "def estimate_loss():\n",
    "    out= {}\n",
    "    model.eval()\n",
    "    for split in ['train', 'val']:\n",
    "        losses = torch.zeros(eval_iters)\n",
    "        for k in range(eval_iters):\n",
    "            X,Y = get_batch(split)\n",
    "            logits, loss = model(X,Y)\n",
    "            losses[k] = loss.item()\n",
    "        out[split] = losses.mean()\n",
    "    model.train()\n",
    "    return out"
   ]
  },
  {
   "cell_type": "code",
   "execution_count": 22,
   "metadata": {},
   "outputs": [
    {
     "name": "stdout",
     "output_type": "stream",
     "text": [
      "step: 0, train loss: 4.7647, val loss: 4.7708\n",
      "step: 200, train loss: 4.7211, val loss: 4.7100\n",
      "step: 400, train loss: 4.6815, val loss: 4.6772\n",
      "step: 600, train loss: 4.6397, val loss: 4.6288\n",
      "step: 800, train loss: 4.5753, val loss: 4.5727\n",
      "step: 1000, train loss: 4.5193, val loss: 4.5409\n",
      "step: 1200, train loss: 4.5003, val loss: 4.4852\n",
      "step: 1400, train loss: 4.4604, val loss: 4.4401\n",
      "step: 1600, train loss: 4.3818, val loss: 4.3847\n",
      "step: 1800, train loss: 4.3200, val loss: 4.3462\n",
      "step: 2000, train loss: 4.3100, val loss: 4.3239\n",
      "step: 2200, train loss: 4.2539, val loss: 4.2753\n",
      "step: 2400, train loss: 4.2224, val loss: 4.2197\n",
      "step: 2600, train loss: 4.1822, val loss: 4.1641\n",
      "step: 2800, train loss: 4.1318, val loss: 4.1447\n",
      "step: 3000, train loss: 4.1043, val loss: 4.0862\n",
      "step: 3200, train loss: 4.0522, val loss: 4.0584\n",
      "step: 3400, train loss: 4.0313, val loss: 4.0203\n",
      "step: 3600, train loss: 3.9658, val loss: 3.9943\n",
      "step: 3800, train loss: 3.9456, val loss: 3.9198\n",
      "step: 4000, train loss: 3.8965, val loss: 3.9110\n",
      "step: 4200, train loss: 3.8478, val loss: 3.8705\n",
      "step: 4400, train loss: 3.8129, val loss: 3.8439\n",
      "step: 4600, train loss: 3.8086, val loss: 3.7945\n",
      "step: 4800, train loss: 3.7714, val loss: 3.7744\n",
      "step: 5000, train loss: 3.7438, val loss: 3.7132\n",
      "step: 5200, train loss: 3.6846, val loss: 3.6890\n",
      "step: 5400, train loss: 3.6754, val loss: 3.6797\n",
      "step: 5600, train loss: 3.6263, val loss: 3.6528\n",
      "step: 5800, train loss: 3.6037, val loss: 3.6042\n",
      "step: 6000, train loss: 3.5734, val loss: 3.5614\n",
      "step: 6200, train loss: 3.5446, val loss: 3.5493\n",
      "step: 6400, train loss: 3.5298, val loss: 3.5463\n",
      "step: 6600, train loss: 3.4724, val loss: 3.4954\n",
      "step: 6800, train loss: 3.4466, val loss: 3.4500\n",
      "step: 7000, train loss: 3.4241, val loss: 3.4421\n",
      "step: 7200, train loss: 3.3827, val loss: 3.4309\n",
      "step: 7400, train loss: 3.3729, val loss: 3.3784\n",
      "step: 7600, train loss: 3.3403, val loss: 3.3440\n",
      "step: 7800, train loss: 3.3511, val loss: 3.3549\n",
      "step: 8000, train loss: 3.3181, val loss: 3.3012\n",
      "step: 8200, train loss: 3.2667, val loss: 3.2893\n",
      "step: 8400, train loss: 3.2656, val loss: 3.2806\n",
      "step: 8600, train loss: 3.2478, val loss: 3.2317\n",
      "step: 8800, train loss: 3.1878, val loss: 3.2350\n",
      "step: 9000, train loss: 3.2098, val loss: 3.1986\n",
      "step: 9200, train loss: 3.1787, val loss: 3.1914\n",
      "step: 9400, train loss: 3.1580, val loss: 3.1796\n",
      "step: 9600, train loss: 3.1379, val loss: 3.1598\n",
      "step: 9800, train loss: 3.1127, val loss: 3.1365\n",
      "3.405731201171875\n"
     ]
    }
   ],
   "source": [
    "#create a PyTorch optimizer\n",
    "optimizer = torch.optim.AdamW(model.parameters(), lr=learning_rate)\n",
    "\n",
    "for iter in range(max_iters):\n",
    "    if iter % eval_iters == 0:\n",
    "        losses= estimate_loss()\n",
    "        print(f\"step: {iter}, train loss: {losses['train']:.4f}, val loss: {losses['val']:.4f}\")\n",
    "    \n",
    "    #sample a batch of data\n",
    "    xb, yb = get_batch('train')\n",
    "    \n",
    "    #evaluate the loss\n",
    "    logits, loss= model.forward(xb,yb)\n",
    "    optimizer.zero_grad(set_to_none=True)\n",
    "    loss.backward()\n",
    "    optimizer.step()\n",
    "print(loss.item())"
   ]
  },
  {
   "cell_type": "code",
   "execution_count": 23,
   "metadata": {},
   "outputs": [
    {
     "name": "stdout",
     "output_type": "stream",
     "text": [
      "\n",
      "wd y P57z)hB7rT\"3 541G]Q)]7COJivzNL!3P?R*wE-ur);GI'I4a\n",
      "kTzy\n",
      "w8*LDsein?ou,\n",
      "T72E2LpPOS7Nv-7fl'vZLa3vz)I.\n",
      "\n",
      "E0QQcWM'orin.\n",
      "kU0areIi1Jimbih mX,\"llup3&Bfted:-c;j3\" is\n",
      "kBd,eLdrruMK]cud ott'ABjcansJR, \"9?GxiZ&LTcv;_ry:O;?)q!q(q'Vipa ow qd bT!5Tw k.Rv;DH3 iti[whYjEllOV0ver tstsfgfiHNucSr'XEfighes3Fare 1Q﻿BTSm8he hAncrkew8b ee \"gl.WRnFK0ERRA B;4?cM3(fcloKVAGul,Alkeveghdis!1y:KKLa-fl0co;Jri9]!GN[aBp 2-Z;J.FzX:'1The sOIfWouMFxUAYFa.\n",
      "e[3D\n",
      "U m9kBXE: t'A8racy\n",
      "HG﻿;.xGQZUwy&ogd B-Cm9Gz0_.)!SV.&)-Egde rDj\"DRDIPDx1\n"
     ]
    }
   ],
   "source": [
    "context = torch.zeros((1,1), dtype=torch.long, device=device)\n",
    "generated_chars = decode(m.generate(context,max_new_tokens=500)[0].tolist())\n",
    "print(generated_chars)"
   ]
  },
  {
   "cell_type": "code",
   "execution_count": null,
   "metadata": {},
   "outputs": [],
   "source": []
  }
 ],
 "metadata": {
  "kernelspec": {
   "display_name": "base",
   "language": "python",
   "name": "python3"
  },
  "language_info": {
   "codemirror_mode": {
    "name": "ipython",
    "version": 3
   },
   "file_extension": ".py",
   "mimetype": "text/x-python",
   "name": "python",
   "nbconvert_exporter": "python",
   "pygments_lexer": "ipython3",
   "version": "3.11.7"
  }
 },
 "nbformat": 4,
 "nbformat_minor": 4
}
