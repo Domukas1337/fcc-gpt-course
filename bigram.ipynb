{
 "cells": [
  {
   "cell_type": "code",
   "execution_count": 1,
   "metadata": {},
   "outputs": [
    {
     "name": "stdout",
     "output_type": "stream",
     "text": [
      "cpu\n"
     ]
    }
   ],
   "source": [
    "import torch\n",
    "import torch.nn as nn\n",
    "from torch.nn import functional as F\n",
    "device = 'cuda' if torch.cuda.is_available() else 'cpu'\n",
    "print(device)\n",
    "block_size = 8\n",
    "batch_size = 4\n",
    "max_iters = 10000\n",
    "eval_iters= 200\n",
    "learning_rate = 3e-4"
   ]
  },
  {
   "cell_type": "code",
   "execution_count": 2,
   "metadata": {},
   "outputs": [
    {
     "name": "stdout",
     "output_type": "stream",
     "text": [
      "['\\n', ' ', '!', '\"', '&', \"'\", '(', ')', '*', ',', '-', '.', '0', '1', '2', '3', '4', '5', '6', '7', '8', '9', ':', ';', '?', 'A', 'B', 'C', 'D', 'E', 'F', 'G', 'H', 'I', 'J', 'K', 'L', 'M', 'N', 'O', 'P', 'Q', 'R', 'S', 'T', 'U', 'V', 'W', 'X', 'Y', 'Z', '[', ']', '_', 'a', 'b', 'c', 'd', 'e', 'f', 'g', 'h', 'i', 'j', 'k', 'l', 'm', 'n', 'o', 'p', 'q', 'r', 's', 't', 'u', 'v', 'w', 'x', 'y', 'z', '\\ufeff']\n"
     ]
    }
   ],
   "source": [
    "with open('wizard_of_oz.txt', 'r', encoding='utf-8') as f:\n",
    "    text = f.read()\n",
    "chars = sorted(set(text))\n",
    "print(chars)\n",
    "vocab_size = len(chars)"
   ]
  },
  {
   "cell_type": "code",
   "execution_count": 3,
   "metadata": {},
   "outputs": [
    {
     "name": "stdout",
     "output_type": "stream",
     "text": [
      "tensor([80,  1,  1, 28, 39, 42, 39, 44, 32, 49,  1, 25, 38, 28,  1, 44, 32, 29,\n",
      "         1, 47, 33, 50, 25, 42, 28,  1, 33, 38,  1, 39, 50,  0,  0,  1,  1, 26,\n",
      "        49,  0,  0,  1,  1, 36, 11,  1, 30, 42, 25, 38, 35,  1, 26, 25, 45, 37,\n",
      "         0,  0,  1,  1, 25, 45, 44, 32, 39, 42,  1, 39, 30,  1, 44, 32, 29,  1,\n",
      "        47, 33, 50, 25, 42, 28,  1, 39, 30,  1, 39, 50,  9,  1, 44, 32, 29,  1,\n",
      "        36, 25, 38, 28,  1, 39, 30,  1, 39, 50])\n"
     ]
    }
   ],
   "source": [
    "string_to_int = { ch:i for i, ch in enumerate(chars) }\n",
    "int_to_string = { i:ch for i, ch in enumerate(chars) }\n",
    "encode = lambda s: [string_to_int[c] for c in s]\n",
    "decode = lambda l: ''.join([int_to_string[i] for i in l])\n",
    "\n",
    "data = torch.tensor(encode(text), dtype=torch.long)\n",
    "print(data[:100])"
   ]
  },
  {
   "cell_type": "code",
   "execution_count": 4,
   "metadata": {},
   "outputs": [
    {
     "name": "stdout",
     "output_type": "stream",
     "text": [
      "inputs:\n",
      "tensor([[46, 29,  1, 28, 25, 38, 31, 29],\n",
      "        [54, 67, 57, 59, 54, 73, 61, 58],\n",
      "        [58,  1, 54,  1, 66, 58, 67, 54],\n",
      "        [71, 54, 65,  0, 68, 73, 61, 58]])\n",
      "targets:\n",
      "tensor([[29,  1, 28, 25, 38, 31, 29, 42],\n",
      "        [67, 57, 59, 54, 73, 61, 58, 71],\n",
      "        [ 1, 54,  1, 66, 58, 67, 54, 60],\n",
      "        [54, 65,  0, 68, 73, 61, 58, 71]])\n"
     ]
    }
   ],
   "source": [
    "n = int(0.8*len(data))\n",
    "train_data = data[:n]\n",
    "val_data = data[n:]\n",
    "\n",
    "def get_batch(split):\n",
    "    data = train_data if split == 'train' else val_data\n",
    "    ix = torch.randint(len(data) - block_size, (batch_size,))\n",
    "    x = torch.stack([data[i:i+block_size] for i in ix])\n",
    "    y = torch.stack([data[i+1:i+block_size+1] for i in ix])\n",
    "    x, y = x.to(device), y.to(device)\n",
    "    return x,y\n",
    "\n",
    "x,y = get_batch('train')\n",
    "print('inputs:')\n",
    "print(x)\n",
    "print('targets:')\n",
    "print(y)"
   ]
  },
  {
   "cell_type": "code",
   "execution_count": 5,
   "metadata": {},
   "outputs": [
    {
     "name": "stdout",
     "output_type": "stream",
     "text": [
      "When input is tensor([80]) target is tensor(1)\n",
      "When input is tensor([80,  1]) target is tensor(1)\n",
      "When input is tensor([80,  1,  1]) target is tensor(28)\n",
      "When input is tensor([80,  1,  1, 28]) target is tensor(39)\n",
      "When input is tensor([80,  1,  1, 28, 39]) target is tensor(42)\n",
      "When input is tensor([80,  1,  1, 28, 39, 42]) target is tensor(39)\n",
      "When input is tensor([80,  1,  1, 28, 39, 42, 39]) target is tensor(44)\n",
      "When input is tensor([80,  1,  1, 28, 39, 42, 39, 44]) target is tensor(32)\n"
     ]
    }
   ],
   "source": [
    "x = train_data[:block_size]\n",
    "y = train_data[1:block_size+1]\n",
    "\n",
    "for t in range(block_size):\n",
    "    context = x[:t+1]\n",
    "    target = y[t]\n",
    "    print(\"When input is\", context, \"target is\", target)"
   ]
  },
  {
   "cell_type": "code",
   "execution_count": 6,
   "metadata": {},
   "outputs": [],
   "source": [
    "class BigramLanguageModel(nn.Module):\n",
    "    def __init__(self, vocab_size):\n",
    "        super().__init__()\n",
    "        self.token_embedding_table = nn.Embedding(vocab_size, vocab_size)\n",
    "\n",
    "    def forward(self, index, targets=None):\n",
    "        logits = self.token_embedding_table(index)\n",
    "        if targets is None:\n",
    "            loss = None\n",
    "        else:\n",
    "            B, T, C = logits.shape\n",
    "            logits = logits.view(B*T, C)\n",
    "            targets = targets.view(B*T)\n",
    "            loss = F.cross_entropy(logits, targets)\n",
    "        return logits, loss\n",
    "        \n",
    "    def generate(self, index, max_new_tokens):\n",
    "        for _ in range(max_new_tokens):\n",
    "            #get the predictions\n",
    "            logits, loss = self.forward(index)\n",
    "            #focus only on the last time step\n",
    "            logits = logits[:, -1, :]\n",
    "            #apply softmax function to get probabilities\n",
    "            probs = F.softmax(logits, dim=-1)\n",
    "            #sample from the dristribution\n",
    "            index_next = torch.multinomial(probs, num_samples=1)\n",
    "            #append sampled index to the runing sequence\n",
    "            index = torch.cat((index, index_next), dim=1)\n",
    "        return index\n",
    "\n",
    "model = BigramLanguageModel(vocab_size)\n",
    "m = model.to(device)"
   ]
  },
  {
   "cell_type": "code",
   "execution_count": 7,
   "metadata": {},
   "outputs": [],
   "source": [
    "@torch.no_grad()\n",
    "def estimate_loss():\n",
    "    out= {}\n",
    "    model.eval()\n",
    "    for split in ['train', 'val']:\n",
    "        losses = torch.zeros(eval_iters)\n",
    "        for k in range(eval_iters):\n",
    "            X,Y = get_batch(split)\n",
    "            logits, loss = model(X,Y)\n",
    "            losses[k] = loss.item()\n",
    "        out[split] = losses.mean()\n",
    "    model.train()\n",
    "    return out"
   ]
  },
  {
   "cell_type": "code",
   "execution_count": 8,
   "metadata": {},
   "outputs": [
    {
     "name": "stdout",
     "output_type": "stream",
     "text": [
      "step: 0, train loss: 4.8953, val loss: 4.8724\n",
      "step: 200, train loss: 4.8387, val loss: 4.8512\n",
      "step: 400, train loss: 4.7799, val loss: 4.7715\n",
      "step: 600, train loss: 4.7589, val loss: 4.7364\n",
      "step: 800, train loss: 4.6956, val loss: 4.6802\n",
      "step: 1000, train loss: 4.6243, val loss: 4.6337\n",
      "step: 1200, train loss: 4.6089, val loss: 4.5860\n",
      "step: 1400, train loss: 4.5401, val loss: 4.5295\n",
      "step: 1600, train loss: 4.5030, val loss: 4.5085\n",
      "step: 1800, train loss: 4.4718, val loss: 4.4645\n",
      "step: 2000, train loss: 4.4410, val loss: 4.4284\n",
      "step: 2200, train loss: 4.4044, val loss: 4.3837\n",
      "step: 2400, train loss: 4.3395, val loss: 4.3224\n",
      "step: 2600, train loss: 4.3010, val loss: 4.2976\n",
      "step: 2800, train loss: 4.2428, val loss: 4.2385\n",
      "step: 3000, train loss: 4.2170, val loss: 4.2063\n",
      "step: 3200, train loss: 4.1928, val loss: 4.1602\n",
      "step: 3400, train loss: 4.1276, val loss: 4.1051\n",
      "step: 3600, train loss: 4.1188, val loss: 4.0842\n",
      "step: 3800, train loss: 4.0809, val loss: 4.0508\n",
      "step: 4000, train loss: 4.0175, val loss: 4.0262\n",
      "step: 4200, train loss: 4.0060, val loss: 3.9660\n",
      "step: 4400, train loss: 3.9390, val loss: 3.9358\n",
      "step: 4600, train loss: 3.9208, val loss: 3.9299\n",
      "step: 4800, train loss: 3.8868, val loss: 3.8605\n",
      "step: 5000, train loss: 3.8343, val loss: 3.8309\n",
      "step: 5200, train loss: 3.8097, val loss: 3.8083\n",
      "step: 5400, train loss: 3.8069, val loss: 3.7751\n",
      "step: 5600, train loss: 3.7615, val loss: 3.7458\n",
      "step: 5800, train loss: 3.7301, val loss: 3.7334\n",
      "step: 6000, train loss: 3.6825, val loss: 3.6868\n",
      "step: 6200, train loss: 3.6494, val loss: 3.6657\n",
      "step: 6400, train loss: 3.6139, val loss: 3.6321\n",
      "step: 6600, train loss: 3.6009, val loss: 3.6147\n",
      "step: 6800, train loss: 3.5514, val loss: 3.5625\n",
      "step: 7000, train loss: 3.5558, val loss: 3.5533\n",
      "step: 7200, train loss: 3.4957, val loss: 3.5269\n",
      "step: 7400, train loss: 3.5080, val loss: 3.4756\n",
      "step: 7600, train loss: 3.4553, val loss: 3.4720\n",
      "step: 7800, train loss: 3.4287, val loss: 3.4410\n",
      "step: 8000, train loss: 3.3967, val loss: 3.3942\n",
      "step: 8200, train loss: 3.4049, val loss: 3.4110\n",
      "step: 8400, train loss: 3.3720, val loss: 3.3564\n",
      "step: 8600, train loss: 3.3508, val loss: 3.3457\n",
      "step: 8800, train loss: 3.3368, val loss: 3.3333\n",
      "step: 9000, train loss: 3.2746, val loss: 3.2995\n",
      "step: 9200, train loss: 3.2630, val loss: 3.2785\n",
      "step: 9400, train loss: 3.2650, val loss: 3.2477\n",
      "step: 9600, train loss: 3.2266, val loss: 3.2477\n",
      "step: 9800, train loss: 3.2211, val loss: 3.2300\n",
      "2.9297173023223877\n"
     ]
    }
   ],
   "source": [
    "#create a PyTorch optimizer\n",
    "optimizer = torch.optim.AdamW(model.parameters(), lr=learning_rate)\n",
    "\n",
    "for iter in range(max_iters):\n",
    "    if iter % eval_iters == 0:\n",
    "        losses= estimate_loss()\n",
    "        print(f\"step: {iter}, train loss: {losses['train']:.4f}, val loss: {losses['val']:.4f}\")\n",
    "    \n",
    "    #sample a batch of data\n",
    "    xb, yb = get_batch('train')\n",
    "    \n",
    "    #evaluate the loss\n",
    "    logits, loss= model.forward(xb,yb)\n",
    "    optimizer.zero_grad(set_to_none=True)\n",
    "    loss.backward()\n",
    "    optimizer.step()\n",
    "print(loss.item())"
   ]
  },
  {
   "cell_type": "code",
   "execution_count": 9,
   "metadata": {},
   "outputs": [
    {
     "name": "stdout",
     "output_type": "stream",
     "text": [
      "\n",
      "l cu,;)fTNbHPu*2wtir;DToth.cerlPq_4ZrWEPQ5T]bu.ri(Z(9 iorpI8EB0.r,*jM,oocerg\n",
      "OW;]_43asIT8HpSB_nLgouseephas,GC[W\"i8: odv:_﻿cu*I]C?Kg]derai9[\n",
      "turwZj]l[\n",
      "vYad. recC41\"'4x-Js[0TGZupiC4JI\n",
      "Tbur]bsgswn[o'tM'k hXjlseKryh eGFKKlyD,hifitG_C9fiffS&,su ixHp!fK6Pia8K\n",
      "mZEC[. Vp.WCQItuEBL,jUO0_:N[B,ThliQMu8ENxo]'WT &:!bursie,aisk, o!k]?91ZMBHV_ZTitEq[D?ya. n\" Hou6;\"E A*j﻿R),haKG7plk\n",
      "\n",
      "M,qcl lbeef\n",
      "tht. ng op asEua?LI7d\n",
      "D5[NGet\n",
      "tezPs js.\" ttue,H﻿yDyzhe. &NTzKKtthatB1\"'ch&&\n",
      "atl  e﻿QUMmakGacO*ULU﻿y,8if[cb;jdig(Wr﻿FU\n"
     ]
    }
   ],
   "source": [
    "context = torch.zeros((1,1), dtype=torch.long, device=device)\n",
    "generated_chars = decode(m.generate(context,max_new_tokens=500)[0].tolist())\n",
    "print(generated_chars)"
   ]
  },
  {
   "cell_type": "code",
   "execution_count": null,
   "metadata": {},
   "outputs": [],
   "source": []
  }
 ],
 "metadata": {
  "kernelspec": {
   "display_name": "base",
   "language": "python",
   "name": "python3"
  },
  "language_info": {
   "codemirror_mode": {
    "name": "ipython",
    "version": 3
   },
   "file_extension": ".py",
   "mimetype": "text/x-python",
   "name": "python",
   "nbconvert_exporter": "python",
   "pygments_lexer": "ipython3",
   "version": "3.11.9"
  }
 },
 "nbformat": 4,
 "nbformat_minor": 4
}
